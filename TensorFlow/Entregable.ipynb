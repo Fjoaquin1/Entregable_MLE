{
  "nbformat": 4,
  "nbformat_minor": 0,
  "metadata": {
    "colab": {
      "provenance": []
    },
    "kernelspec": {
      "name": "python3",
      "display_name": "Python 3"
    },
    "language_info": {
      "name": "python"
    }
  },
  "cells": [
    {
      "cell_type": "code",
      "execution_count": 48,
      "metadata": {
        "id": "6t7fW9Lp199R"
      },
      "outputs": [],
      "source": [
        "import pandas as pd\n",
        "import numpy as np\n",
        "from sklearn.model_selection import train_test_split\n",
        "from sklearn.preprocessing import StandardScaler, MinMaxScaler\n",
        "import seaborn as sns\n",
        "import matplotlib.pyplot as plt\n",
        "import tensorflow as tf\n",
        "from tensorflow import keras\n",
        "from tensorflow.keras import layers\n",
        "import pickle"
      ]
    },
    {
      "cell_type": "code",
      "source": [
        "def load_data(file_path):\n",
        "    data = pd.read_csv(file_path)\n",
        "    return data\n"
      ],
      "metadata": {
        "id": "ryA1fFho2C1H"
      },
      "execution_count": 49,
      "outputs": []
    },
    {
      "cell_type": "code",
      "source": [
        "def clean_data(data):\n",
        "    cleaned_data = data.dropna()\n",
        "    return cleaned_data"
      ],
      "metadata": {
        "id": "FpgVJ-hN2ToK"
      },
      "execution_count": 50,
      "outputs": []
    },
    {
      "cell_type": "code",
      "source": [
        "def analyze_data(data):\n",
        "    sns.pairplot(data, vars=['Mean_Integrated', 'SD', 'EK', 'Skewness', 'Mean_DMSNR_Curve', 'SD_DMSNR_Curve', 'EK_DMSNR_Curve', 'Skewness_DMSNR_Curve'], hue='Class')\n",
        "    plt.show()"
      ],
      "metadata": {
        "id": "etqQV9yF2Vgt"
      },
      "execution_count": 51,
      "outputs": []
    },
    {
      "cell_type": "code",
      "source": [
        "def split_data(data):\n",
        "    X = data.drop('Class', axis=1)\n",
        "    y = data['Class']\n",
        "    X_train, X_temp, y_train, y_temp = train_test_split(X, y, test_size=0.2, random_state=42)\n",
        "    X_val, X_test, y_val, y_test = train_test_split(X_temp, y_temp, test_size=0.5, random_state=42)\n",
        "    return X_train, X_val, X_test, y_train, y_val, y_test"
      ],
      "metadata": {
        "id": "2UV_8bpq2XJV"
      },
      "execution_count": 52,
      "outputs": []
    },
    {
      "cell_type": "code",
      "source": [
        "def select_features(data):\n",
        "    relevant_features = ['EK', 'Skewness']\n",
        "    X_selected = data[relevant_features]\n",
        "    return X_selected"
      ],
      "metadata": {
        "id": "3gJfqldz2ZVs"
      },
      "execution_count": 53,
      "outputs": []
    },
    {
      "cell_type": "code",
      "source": [
        "def normalize_data(X_train, X_val, X_test):\n",
        "    scaler = StandardScaler()\n",
        "    X_train_scaled = scaler.fit_transform(X_train)\n",
        "    X_val_scaled = scaler.transform(X_val)\n",
        "    X_test_scaled = scaler.transform(X_test)\n",
        "    return X_train_scaled, X_val_scaled, X_test_scaled"
      ],
      "metadata": {
        "id": "HCwfTT4c2bSe"
      },
      "execution_count": 54,
      "outputs": []
    },
    {
      "cell_type": "code",
      "source": [
        "def train_model(X_train, y_train, learning_rate):\n",
        "    model = keras.Sequential([\n",
        "        layers.Dense(64, activation='relu', input_shape=(X_train.shape[1],)),\n",
        "        layers.Dense(32, activation='relu'),\n",
        "        layers.Dense(1, activation='sigmoid')\n",
        "    ])\n",
        "    optimizer = keras.optimizers.Adam(learning_rate=learning_rate)\n",
        "    model.compile(optimizer=optimizer, loss='binary_crossentropy', metrics=['accuracy'])\n",
        "    model.fit(X_train, y_train, epochs=10, batch_size=32, verbose=0)\n",
        "    return model"
      ],
      "metadata": {
        "id": "gOEvcPZH2c-5"
      },
      "execution_count": 55,
      "outputs": []
    },
    {
      "cell_type": "code",
      "source": [
        "def train_final_model(X_train, y_train, X_val, y_val):\n",
        "    learning_rates = [0.001, 0.01, 0.1]\n",
        "    best_accuracy = 0\n",
        "    best_model = None\n",
        "    for lr in learning_rates:\n",
        "        model = train_model(X_train, y_train, lr)\n",
        "        _, accuracy = model.evaluate(X_val, y_val, verbose=0)\n",
        "        if accuracy > best_accuracy:\n",
        "            best_accuracy = accuracy\n",
        "            best_model = model\n",
        "    return best_model"
      ],
      "metadata": {
        "id": "IAWTUfdi2e8D"
      },
      "execution_count": 56,
      "outputs": []
    },
    {
      "cell_type": "code",
      "source": [
        "def evaluate_model(model, X_test, y_test):\n",
        "    loss, accuracy = model.evaluate(X_test, y_test)\n",
        "    print(\"Accuracy:\", accuracy)"
      ],
      "metadata": {
        "id": "AHnob24J2g4w"
      },
      "execution_count": 57,
      "outputs": []
    },
    {
      "cell_type": "code",
      "source": [
        "def save_model(model, scaler, model_file, scaler_file):\n",
        "    model.save(model_file)\n",
        "    scaler_filename = scaler_file + '.pkl'\n",
        "    with open(scaler_filename, 'wb') as f:\n",
        "        pickle.dump(scaler, f)\n"
      ],
      "metadata": {
        "id": "_Hd7OBXN2jEz"
      },
      "execution_count": 58,
      "outputs": []
    },
    {
      "cell_type": "code",
      "source": [
        "file_path = '/content/drive/MyDrive/Archivos-Curso/Pulsar.csv'\n",
        "data = load_data(file_path)\n"
      ],
      "metadata": {
        "id": "8BFsRPt02kkh"
      },
      "execution_count": 59,
      "outputs": []
    },
    {
      "cell_type": "code",
      "source": [
        "cleaned_data = clean_data(data)\n",
        "cleaned_data.to_csv('/content/drive/MyDrive/Archivos-Curso/Pulsar_cleaned.csv', index=False)\n"
      ],
      "metadata": {
        "id": "f4oA_7Dh2oOW"
      },
      "execution_count": 60,
      "outputs": []
    },
    {
      "cell_type": "code",
      "source": [
        "X_train, X_val, X_test, y_train, y_val, y_test = split_data(cleaned_data)\n"
      ],
      "metadata": {
        "id": "D36XjU3x2p-l"
      },
      "execution_count": 61,
      "outputs": []
    },
    {
      "cell_type": "code",
      "source": [
        "X_train_selected = select_features(X_train)\n",
        "X_val_selected = select_features(X_val)\n",
        "X_test_selected = select_features(X_test)\n"
      ],
      "metadata": {
        "id": "09vH0A9H2qz0"
      },
      "execution_count": 62,
      "outputs": []
    },
    {
      "cell_type": "code",
      "source": [
        "# Normalización/Escalado\n",
        "scaler = StandardScaler()\n",
        "X_train_scaled = scaler.fit_transform(X_train_selected)\n",
        "X_val_scaled = scaler.transform(X_val_selected)\n",
        "X_test_scaled = scaler.transform(X_test_selected)\n"
      ],
      "metadata": {
        "id": "5bJOSI-Y2seP"
      },
      "execution_count": 63,
      "outputs": []
    },
    {
      "cell_type": "code",
      "source": [
        "best_model = train_final_model(X_train_scaled, y_train, X_val_scaled, y_val)\n"
      ],
      "metadata": {
        "id": "latxiAFT2uFM"
      },
      "execution_count": 64,
      "outputs": []
    },
    {
      "cell_type": "code",
      "source": [
        "evaluate_model(best_model, X_test_scaled, y_test)\n"
      ],
      "metadata": {
        "colab": {
          "base_uri": "https://localhost:8080/"
        },
        "id": "MVQVYati2wS_",
        "outputId": "ddade6fa-ab4b-4c3d-e1b0-3172ebd17540"
      },
      "execution_count": 65,
      "outputs": [
        {
          "output_type": "stream",
          "name": "stdout",
          "text": [
            "56/56 [==============================] - 0s 3ms/step - loss: 0.0819 - accuracy: 0.9788\n",
            "Accuracy: 0.9787709712982178\n"
          ]
        }
      ]
    },
    {
      "cell_type": "code",
      "source": [
        "model_file = 'best_model.h5'\n",
        "scaler_file = 'scaler'\n",
        "save_model(best_model, scaler, model_file, scaler_file)"
      ],
      "metadata": {
        "id": "WLOG3z3N2y2N"
      },
      "execution_count": 66,
      "outputs": []
    }
  ]
}